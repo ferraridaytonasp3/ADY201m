{
 "cells": [
  {
   "cell_type": "code",
   "execution_count": 1,
   "id": "5b614a5a",
   "metadata": {},
   "outputs": [],
   "source": [
    "import pandas as pd"
   ]
  },
  {
   "cell_type": "code",
   "execution_count": 3,
   "id": "c1e2d5f2",
   "metadata": {},
   "outputs": [
    {
     "name": "stderr",
     "output_type": "stream",
     "text": [
      "<>:1: SyntaxWarning: invalid escape sequence '\\L'\n",
      "<>:1: SyntaxWarning: invalid escape sequence '\\L'\n",
      "C:\\Users\\Ktuongz\\AppData\\Local\\Temp\\ipykernel_2860\\3028865431.py:1: SyntaxWarning: invalid escape sequence '\\L'\n",
      "  data = pd.read_csv('C:\\LaLaLa\\ADY201m\\Data\\FastFoodNutritionMenuV2.csv') #<--Data\n"
     ]
    }
   ],
   "source": [
    "data = pd.read_csv('C:\\LaLaLa\\ADY201m\\Data\\FastFoodNutritionMenuV2.csv') #<--Data"
   ]
  },
  {
   "cell_type": "code",
   "execution_count": null,
   "id": "b461c98c",
   "metadata": {},
   "outputs": [],
   "source": [
    "#1.So sánh tổng thể năng lượng trung bình trong sản phẩm của mỗi công ty \n",
    "req1 = data.groupby('Company')['Calories'].mean()\n",
    "print(req1)"
   ]
  },
  {
   "cell_type": "code",
   "execution_count": 5,
   "id": "8c71bd49",
   "metadata": {},
   "outputs": [
    {
     "name": "stdout",
     "output_type": "stream",
     "text": [
      "            Calories  TotalFat_g\n",
      "Calories    1.000000    0.824249\n",
      "TotalFat_g  0.824249    1.000000\n",
      "          Sugars_g  Calories\n",
      "Sugars_g  1.000000  0.298488\n",
      "Calories  0.298488  1.000000\n"
     ]
    }
   ],
   "source": [
    "#2. Kiểm định tỷ lệ các thành phần dinh dưỡng chính (chất béo, đường, năng lượng, v.v.) để đảm bảo tuân thủ tiêu chuẩn an toàn và chất lượng thực phẩm.\n",
    "req3= data[['Calories','TotalFat_g']].corr()  \n",
    "req9 =data[['Sugars_g','Calories']].corr()\n",
    "print(req3)\n",
    "print(req9)"
   ]
  },
  {
   "cell_type": "code",
   "execution_count": 6,
   "id": "172fb3a3",
   "metadata": {},
   "outputs": [
    {
     "name": "stdout",
     "output_type": "stream",
     "text": [
      "Company\n",
      "Burger King    5.567039\n",
      "KFC            1.355721\n",
      "McDonald’s     4.423077\n",
      "Wendy’s        4.376623\n",
      "Name: SaturatedFat_g, dtype: float64\n"
     ]
    }
   ],
   "source": [
    "#3. Đánh giá mức độ ảnh hưởng của sản phẩm đến sức khỏe tim mạch, xác định thương hiệu có tỷ lệ sản phẩm tiềm ẩn nguy cơ cao đối với hệ tim mạch\n",
    "req4 = data.groupby('Company')['SaturatedFat_g'].mean()\n",
    "print(req4)"
   ]
  },
  {
   "cell_type": "code",
   "execution_count": 7,
   "id": "04856ac3",
   "metadata": {},
   "outputs": [
    {
     "name": "stdout",
     "output_type": "stream",
     "text": [
      "Company\n",
      "Burger King    0.023916\n",
      "KFC            0.023408\n",
      "McDonald’s     0.033456\n",
      "Wendy’s        0.027898\n",
      "Name: ProteinPerCalo, dtype: float64\n"
     ]
    },
    {
     "name": "stderr",
     "output_type": "stream",
     "text": [
      "C:\\Users\\Ktuongz\\AppData\\Local\\Temp\\ipykernel_2860\\1464263861.py:3: SettingWithCopyWarning: \n",
      "A value is trying to be set on a copy of a slice from a DataFrame.\n",
      "Try using .loc[row_indexer,col_indexer] = value instead\n",
      "\n",
      "See the caveats in the documentation: https://pandas.pydata.org/pandas-docs/stable/user_guide/indexing.html#returning-a-view-versus-a-copy\n",
      "  req7semi['ProteinPerCalo'] = req7semi['Protein_g'] / req7semi['Calories']\n"
     ]
    }
   ],
   "source": [
    "#4. Phân tích chất lượng dinh dưỡng của sản phẩm dựa trên tỷ lệ hàm lượng đạm so với tổng năng lượng, nhằm xác định mức độ cân đối và giá trị dinh dưỡng của từng công ty.\n",
    "req7semi = data.query('Calories > 0')\n",
    "req7semi['ProteinPerCalo'] = req7semi['Protein_g'] / req7semi['Calories']\n",
    "req7 = req7semi.groupby('Company')['ProteinPerCalo'].mean()\n",
    "print(req7)"
   ]
  },
  {
   "cell_type": "code",
   "execution_count": null,
   "id": "d757f791",
   "metadata": {},
   "outputs": [],
   "source": [
    "#5.Xác định món ăn tốt nhất theo tiêu chí dinh dưỡng.\n",
    "req10b_semi = data.query('Calories > 0')\n",
    "req10b_semi['ProteinPerCalo'] = req10b_semi['Protein_g'] / req10b_semi['Calories']\n",
    "req10b = req10b_semi.groupby(['Item','Calories','Protein_g'])['ProteinPerCalo'].mean().sort_values(ascending=False).head(5)\n",
    "\n",
    "print(req10b)"
   ]
  }
 ],
 "metadata": {
  "kernelspec": {
   "display_name": "Python 3",
   "language": "python",
   "name": "python3"
  },
  "language_info": {
   "codemirror_mode": {
    "name": "ipython",
    "version": 3
   },
   "file_extension": ".py",
   "mimetype": "text/x-python",
   "name": "python",
   "nbconvert_exporter": "python",
   "pygments_lexer": "ipython3",
   "version": "3.13.7"
  }
 },
 "nbformat": 4,
 "nbformat_minor": 5
}
